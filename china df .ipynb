{
 "cells": [
  {
   "cell_type": "code",
   "execution_count": 1,
   "metadata": {},
   "outputs": [],
   "source": [
    "import pandas as pd \n",
    "#%matplotlib notebook\n",
    "import numpy as np\n",
    "import matplotlib.pyplot as plt \n"
   ]
  },
  {
   "cell_type": "code",
   "execution_count": 2,
   "metadata": {},
   "outputs": [
    {
     "data": {
      "text/plain": [
       "Mainland China          31\n",
       "US                      11\n",
       "Australia                4\n",
       "Canada                   3\n",
       "Spain                    1\n",
       "Malaysia                 1\n",
       "Japan                    1\n",
       "Sweden                   1\n",
       "United Arab Emirates     1\n",
       "Finland                  1\n",
       "Thailand                 1\n",
       "Russia                   1\n",
       "Vietnam                  1\n",
       "Singapore                1\n",
       "Cambodia                 1\n",
       "Nepal                    1\n",
       "Germany                  1\n",
       "Belgium                  1\n",
       "UK                       1\n",
       "Egypt                    1\n",
       "India                    1\n",
       "Philippines              1\n",
       "Sri Lanka                1\n",
       "Iran                     1\n",
       "Others                   1\n",
       "France                   1\n",
       "Italy                    1\n",
       "Hong Kong                1\n",
       "South Korea              1\n",
       "Taiwan                   1\n",
       "Macau                    1\n",
       "Name: Country/Region, dtype: int64"
      ]
     },
     "execution_count": 2,
     "metadata": {},
     "output_type": "execute_result"
    }
   ],
   "source": [
    "data_file = \"data/time_series_covid_19_recovered.csv\"\n",
    "recover_df = pd.read_csv(data_file)\n",
    "test= recover_df[\"Country/Region\"].value_counts()\n",
    "test"
   ]
  },
  {
   "cell_type": "code",
   "execution_count": 3,
   "metadata": {},
   "outputs": [],
   "source": [
    "china_df = recover_df.loc[(recover_df[\"Country/Region\"] == \"Mainland China\"), :]"
   ]
  },
  {
   "cell_type": "code",
   "execution_count": 4,
   "metadata": {
    "scrolled": true
   },
   "outputs": [
    {
     "name": "stderr",
     "output_type": "stream",
     "text": [
      "C:\\Users\\amach\\AppData\\Local\\Continuum\\anaconda\\envs\\PythonData\\lib\\site-packages\\ipykernel_launcher.py:1: SettingWithCopyWarning: \n",
      "A value is trying to be set on a copy of a slice from a DataFrame.\n",
      "Try using .loc[row_indexer,col_indexer] = value instead\n",
      "\n",
      "See the caveats in the documentation: https://pandas.pydata.org/pandas-docs/stable/user_guide/indexing.html#returning-a-view-versus-a-copy\n",
      "  \"\"\"Entry point for launching an IPython kernel.\n"
     ]
    }
   ],
   "source": [
    "china_df[\"January\"] = china_df[\"1/31/20\"]"
   ]
  },
  {
   "cell_type": "code",
   "execution_count": 5,
   "metadata": {},
   "outputs": [
    {
     "name": "stderr",
     "output_type": "stream",
     "text": [
      "C:\\Users\\amach\\AppData\\Local\\Continuum\\anaconda\\envs\\PythonData\\lib\\site-packages\\ipykernel_launcher.py:1: SettingWithCopyWarning: \n",
      "A value is trying to be set on a copy of a slice from a DataFrame.\n",
      "Try using .loc[row_indexer,col_indexer] = value instead\n",
      "\n",
      "See the caveats in the documentation: https://pandas.pydata.org/pandas-docs/stable/user_guide/indexing.html#returning-a-view-versus-a-copy\n",
      "  \"\"\"Entry point for launching an IPython kernel.\n"
     ]
    }
   ],
   "source": [
    "china_df[\"February\"] = china_df[\"2/20/20\"]"
   ]
  },
  {
   "cell_type": "code",
   "execution_count": 6,
   "metadata": {},
   "outputs": [
    {
     "name": "stderr",
     "output_type": "stream",
     "text": [
      "C:\\Users\\amach\\AppData\\Local\\Continuum\\anaconda\\envs\\PythonData\\lib\\site-packages\\ipykernel_launcher.py:1: SettingWithCopyWarning: \n",
      "A value is trying to be set on a copy of a slice from a DataFrame.\n",
      "Try using .loc[row_indexer,col_indexer] = value instead\n",
      "\n",
      "See the caveats in the documentation: https://pandas.pydata.org/pandas-docs/stable/user_guide/indexing.html#returning-a-view-versus-a-copy\n",
      "  \"\"\"Entry point for launching an IPython kernel.\n"
     ]
    }
   ],
   "source": [
    "china_df[\"Test\"] = china_df[\"February\"] - china_df[\"January\"]"
   ]
  },
  {
   "cell_type": "code",
   "execution_count": 7,
   "metadata": {},
   "outputs": [],
   "source": [
    "china_df = china_df.rename(columns = {\"February\":\"Total\",\"Test\":\"February\"})"
   ]
  },
  {
   "cell_type": "code",
   "execution_count": 8,
   "metadata": {},
   "outputs": [
    {
     "name": "stderr",
     "output_type": "stream",
     "text": [
      "C:\\Users\\amach\\AppData\\Local\\Continuum\\anaconda\\envs\\PythonData\\lib\\site-packages\\ipykernel_launcher.py:1: FutureWarning: Indexing with multiple keys (implicitly converted to a tuple of keys) will be deprecated, use a list instead.\n",
      "  \"\"\"Entry point for launching an IPython kernel.\n"
     ]
    },
    {
     "data": {
      "text/plain": [
       "Text(0.5, 1.0, 'Recoveries in China')"
      ]
     },
     "execution_count": 8,
     "metadata": {},
     "output_type": "execute_result"
    },
    {
     "data": {
      "image/png": "[encoded data removed]",
      "text/plain": [
       "<Figure size 720x360 with 1 Axes>"
      ]
     },
     "metadata": {
      "needs_background": "light"
     },
     "output_type": "display_data"
    }
   ],
   "source": [
    "grouped_city = china_df.groupby([\"Province/State\"])[\"January\",\"February\",\"Total\"].sum()\n",
    "grouped_city\n",
    "multi_plot = grouped_city.plot(kind=\"bar\", figsize=(10,5)) \n",
    "plt.xlabel(\"Province/state\")\n",
    "plt.ylabel(\"Number of recoveries\")\n",
    "plt.title(\"Recoveries in China\")\n"
   ]
  },
  {
   "cell_type": "code",
   "execution_count": 9,
   "metadata": {},
   "outputs": [],
   "source": [
    "without_hubei = china_df.loc[china_df[\"Province/State\"] != \"Hubei\"]\n"
   ]
  },
  {
   "cell_type": "code",
   "execution_count": 49,
   "metadata": {},
   "outputs": [
    {
     "name": "stderr",
     "output_type": "stream",
     "text": [
      "C:\\Users\\amach\\AppData\\Local\\Continuum\\anaconda\\envs\\PythonData\\lib\\site-packages\\ipykernel_launcher.py:1: FutureWarning: Indexing with multiple keys (implicitly converted to a tuple of keys) will be deprecated, use a list instead.\n",
      "  \"\"\"Entry point for launching an IPython kernel.\n"
     ]
    },
    {
     "data": {
      "text/plain": [
       "Text(0.5, 1.0, 'Recoveries in China')"
      ]
     },
     "execution_count": 49,
     "metadata": {},
     "output_type": "execute_result"
    },
    {
     "data": {
      "image/png": "[encoded data removed]",
      "text/plain": [
       "<Figure size 720x360 with 1 Axes>"
      ]
     },
     "metadata": {
      "needs_background": "light"
     },
     "output_type": "display_data"
    }
   ],
   "source": [
    "grouped_hubei = without_hubei.groupby([\"Province/State\"])[\"January\",\"February\",\"Total\"].sum()\n",
    "grouped_hubei\n",
    "multi_plot = grouped_hubei.plot(kind=\"bar\", figsize=(10,5)) \n",
    "plt.xlabel(\"Province/State\")\n",
    "plt.ylabel(\"Number of recoveries\")\n",
    "plt.title(\"Recoveries in China\")"
   ]
  },
  {
   "cell_type": "code",
   "execution_count": 11,
   "metadata": {},
   "outputs": [
    {
     "name": "stderr",
     "output_type": "stream",
     "text": [
      "C:\\Users\\amach\\AppData\\Local\\Continuum\\anaconda\\envs\\PythonData\\lib\\site-packages\\ipykernel_launcher.py:3: SettingWithCopyWarning: \n",
      "A value is trying to be set on a copy of a slice from a DataFrame.\n",
      "Try using .loc[row_indexer,col_indexer] = value instead\n",
      "\n",
      "See the caveats in the documentation: https://pandas.pydata.org/pandas-docs/stable/user_guide/indexing.html#returning-a-view-versus-a-copy\n",
      "  This is separate from the ipykernel package so we can avoid doing imports until\n"
     ]
    },
    {
     "data": {
      "text/html": [
       "<div>\n",
       "<style scoped>\n",
       "    .dataframe tbody tr th:only-of-type {\n",
       "        vertical-align: middle;\n",
       "    }\n",
       "\n",
       "    .dataframe tbody tr th {\n",
       "        vertical-align: top;\n",
       "    }\n",
       "\n",
       "    .dataframe thead th {\n",
       "        text-align: right;\n",
       "    }\n",
       "</style>\n",
       "<table border=\"1\" class=\"dataframe\">\n",
       "  <thead>\n",
       "    <tr style=\"text-align: right;\">\n",
       "      <th></th>\n",
       "      <th>Province/State</th>\n",
       "      <th>Lat</th>\n",
       "      <th>Long</th>\n",
       "      <th>Total</th>\n",
       "      <th>Population</th>\n",
       "    </tr>\n",
       "  </thead>\n",
       "  <tbody>\n",
       "    <tr>\n",
       "      <th>12</th>\n",
       "      <td>Hubei</td>\n",
       "      <td>30.97564</td>\n",
       "      <td>112.2707</td>\n",
       "      <td>11788</td>\n",
       "      <td></td>\n",
       "    </tr>\n",
       "    <tr>\n",
       "      <th>5</th>\n",
       "      <td>Guangdong</td>\n",
       "      <td>23.33841</td>\n",
       "      <td>113.4220</td>\n",
       "      <td>642</td>\n",
       "      <td></td>\n",
       "    </tr>\n",
       "    <tr>\n",
       "      <th>11</th>\n",
       "      <td>Henan</td>\n",
       "      <td>33.88202</td>\n",
       "      <td>113.6140</td>\n",
       "      <td>637</td>\n",
       "      <td></td>\n",
       "    </tr>\n",
       "    <tr>\n",
       "      <th>13</th>\n",
       "      <td>Hunan</td>\n",
       "      <td>27.61041</td>\n",
       "      <td>111.7088</td>\n",
       "      <td>634</td>\n",
       "      <td></td>\n",
       "    </tr>\n",
       "    <tr>\n",
       "      <th>30</th>\n",
       "      <td>Zhejiang</td>\n",
       "      <td>29.18251</td>\n",
       "      <td>120.0985</td>\n",
       "      <td>633</td>\n",
       "      <td></td>\n",
       "    </tr>\n",
       "  </tbody>\n",
       "</table>\n",
       "</div>"
      ],
      "text/plain": [
       "   Province/State       Lat      Long  Total Population\n",
       "12          Hubei  30.97564  112.2707  11788           \n",
       "5       Guangdong  23.33841  113.4220    642           \n",
       "11          Henan  33.88202  113.6140    637           \n",
       "13          Hunan  27.61041  111.7088    634           \n",
       "30       Zhejiang  29.18251  120.0985    633           "
      ]
     },
     "execution_count": 11,
     "metadata": {},
     "output_type": "execute_result"
    }
   ],
   "source": [
    "china_df.columns\n",
    "china_reduced = china_df[['Province/State','Lat','Long', 'Total']]\n",
    "china_reduced['Population'] = ''\n",
    "china_reduced = china_reduced.sort_values('Total', ascending=False)\n",
    "china_reduced\n",
    "\n",
    "china_top_5 = china_reduced.head()\n",
    "china_top_5"
   ]
  },
  {
   "cell_type": "code",
   "execution_count": 25,
   "metadata": {},
   "outputs": [
    {
     "name": "stderr",
     "output_type": "stream",
     "text": [
      "C:\\Users\\amach\\AppData\\Local\\Continuum\\anaconda\\envs\\PythonData\\lib\\site-packages\\ipykernel_launcher.py:2: SettingWithCopyWarning: \n",
      "A value is trying to be set on a copy of a slice from a DataFrame.\n",
      "Try using .loc[row_indexer,col_indexer] = value instead\n",
      "\n",
      "See the caveats in the documentation: https://pandas.pydata.org/pandas-docs/stable/user_guide/indexing.html#returning-a-view-versus-a-copy\n",
      "  \n"
     ]
    }
   ],
   "source": [
    "city_population = [58500000,113460000,94000000,67370000,57370000]\n",
    "china_top_5['Population'] = np.array(city_population)\n",
    "china_top_5 = china_top_5.rename(columns ={\"Total\": \"Total Number of Recoveries\"})"
   ]
  },
  {
   "cell_type": "code",
   "execution_count": 32,
   "metadata": {},
   "outputs": [],
   "source": [
    "data_file = \"data/time_series_covid_19_confirmed.csv\"\n",
    "confirm_df = pd.read_csv(data_file)\n",
    "confchina_df = confirm_df.loc[(recover_df[\"Country/Region\"] == \"Mainland China\"), :]"
   ]
  },
  {
   "cell_type": "code",
   "execution_count": 33,
   "metadata": {},
   "outputs": [
    {
     "name": "stderr",
     "output_type": "stream",
     "text": [
      "C:\\Users\\amach\\AppData\\Local\\Continuum\\anaconda\\envs\\PythonData\\lib\\site-packages\\ipykernel_launcher.py:1: SettingWithCopyWarning: \n",
      "A value is trying to be set on a copy of a slice from a DataFrame.\n",
      "Try using .loc[row_indexer,col_indexer] = value instead\n",
      "\n",
      "See the caveats in the documentation: https://pandas.pydata.org/pandas-docs/stable/user_guide/indexing.html#returning-a-view-versus-a-copy\n",
      "  \"\"\"Entry point for launching an IPython kernel.\n"
     ]
    }
   ],
   "source": [
    "confchina_df[\"Total Confirmed Cases\"] = confchina_df[\"2/20/20\"]"
   ]
  },
  {
   "cell_type": "code",
   "execution_count": 44,
   "metadata": {},
   "outputs": [],
   "source": [
    "confchina_df = confchina_df[['Province/State','Total Confirmed Cases']]\n",
    "confchina_df = confchina_df.sort_values('Total Confirmed Cases', ascending=False)\n",
    "\n",
    "china_analysis = pd.merge(china_top_5,confchina_df, on = 'Province/State', how = \"inner\")"
   ]
  },
  {
   "cell_type": "code",
   "execution_count": 45,
   "metadata": {},
   "outputs": [
    {
     "data": {
      "text/html": [
       "<div>\n",
       "<style scoped>\n",
       "    .dataframe tbody tr th:only-of-type {\n",
       "        vertical-align: middle;\n",
       "    }\n",
       "\n",
       "    .dataframe tbody tr th {\n",
       "        vertical-align: top;\n",
       "    }\n",
       "\n",
       "    .dataframe thead th {\n",
       "        text-align: right;\n",
       "    }\n",
       "</style>\n",
       "<table border=\"1\" class=\"dataframe\">\n",
       "  <thead>\n",
       "    <tr style=\"text-align: right;\">\n",
       "      <th></th>\n",
       "      <th>Province/State</th>\n",
       "      <th>Lat</th>\n",
       "      <th>Long</th>\n",
       "      <th>Total Number of Recoveries</th>\n",
       "      <th>Population</th>\n",
       "      <th>Total Confirmed Cases</th>\n",
       "    </tr>\n",
       "  </thead>\n",
       "  <tbody>\n",
       "    <tr>\n",
       "      <th>0</th>\n",
       "      <td>Hubei</td>\n",
       "      <td>30.97564</td>\n",
       "      <td>112.2707</td>\n",
       "      <td>11788</td>\n",
       "      <td>58500000</td>\n",
       "      <td>62442</td>\n",
       "    </tr>\n",
       "    <tr>\n",
       "      <th>1</th>\n",
       "      <td>Guangdong</td>\n",
       "      <td>23.33841</td>\n",
       "      <td>113.4220</td>\n",
       "      <td>642</td>\n",
       "      <td>113460000</td>\n",
       "      <td>1332</td>\n",
       "    </tr>\n",
       "    <tr>\n",
       "      <th>2</th>\n",
       "      <td>Henan</td>\n",
       "      <td>33.88202</td>\n",
       "      <td>113.6140</td>\n",
       "      <td>637</td>\n",
       "      <td>94000000</td>\n",
       "      <td>1265</td>\n",
       "    </tr>\n",
       "    <tr>\n",
       "      <th>3</th>\n",
       "      <td>Hunan</td>\n",
       "      <td>27.61041</td>\n",
       "      <td>111.7088</td>\n",
       "      <td>634</td>\n",
       "      <td>67370000</td>\n",
       "      <td>1010</td>\n",
       "    </tr>\n",
       "    <tr>\n",
       "      <th>4</th>\n",
       "      <td>Zhejiang</td>\n",
       "      <td>29.18251</td>\n",
       "      <td>120.0985</td>\n",
       "      <td>633</td>\n",
       "      <td>57370000</td>\n",
       "      <td>1175</td>\n",
       "    </tr>\n",
       "  </tbody>\n",
       "</table>\n",
       "</div>"
      ],
      "text/plain": [
       "  Province/State       Lat      Long  Total Number of Recoveries  Population  \\\n",
       "0          Hubei  30.97564  112.2707                       11788    58500000   \n",
       "1      Guangdong  23.33841  113.4220                         642   113460000   \n",
       "2          Henan  33.88202  113.6140                         637    94000000   \n",
       "3          Hunan  27.61041  111.7088                         634    67370000   \n",
       "4       Zhejiang  29.18251  120.0985                         633    57370000   \n",
       "\n",
       "   Total Confirmed Cases  \n",
       "0                  62442  \n",
       "1                   1332  \n",
       "2                   1265  \n",
       "3                   1010  \n",
       "4                   1175  "
      ]
     },
     "execution_count": 45,
     "metadata": {},
     "output_type": "execute_result"
    }
   ],
   "source": [
    "china_analysis "
   ]
  },
  {
   "cell_type": "code",
   "execution_count": 47,
   "metadata": {},
   "outputs": [],
   "source": [
    "china_analysis[\"Percentage Recovery(%)\"] = round(((china_analysis[\"Total Number of Recoveries\"]/china_analysis[\"Total Confirmed Cases\"]) * 100),2)"
   ]
  },
  {
   "cell_type": "code",
   "execution_count": 48,
   "metadata": {},
   "outputs": [
    {
     "data": {
      "text/html": [
       "<div>\n",
       "<style scoped>\n",
       "    .dataframe tbody tr th:only-of-type {\n",
       "        vertical-align: middle;\n",
       "    }\n",
       "\n",
       "    .dataframe tbody tr th {\n",
       "        vertical-align: top;\n",
       "    }\n",
       "\n",
       "    .dataframe thead th {\n",
       "        text-align: right;\n",
       "    }\n",
       "</style>\n",
       "<table border=\"1\" class=\"dataframe\">\n",
       "  <thead>\n",
       "    <tr style=\"text-align: right;\">\n",
       "      <th></th>\n",
       "      <th>Province/State</th>\n",
       "      <th>Lat</th>\n",
       "      <th>Long</th>\n",
       "      <th>Total Number of Recoveries</th>\n",
       "      <th>Population</th>\n",
       "      <th>Total Confirmed Cases</th>\n",
       "      <th>Percentage Recovery(%)</th>\n",
       "    </tr>\n",
       "  </thead>\n",
       "  <tbody>\n",
       "    <tr>\n",
       "      <th>0</th>\n",
       "      <td>Hubei</td>\n",
       "      <td>30.97564</td>\n",
       "      <td>112.2707</td>\n",
       "      <td>11788</td>\n",
       "      <td>58500000</td>\n",
       "      <td>62442</td>\n",
       "      <td>18.88</td>\n",
       "    </tr>\n",
       "    <tr>\n",
       "      <th>1</th>\n",
       "      <td>Guangdong</td>\n",
       "      <td>23.33841</td>\n",
       "      <td>113.4220</td>\n",
       "      <td>642</td>\n",
       "      <td>113460000</td>\n",
       "      <td>1332</td>\n",
       "      <td>48.20</td>\n",
       "    </tr>\n",
       "    <tr>\n",
       "      <th>2</th>\n",
       "      <td>Henan</td>\n",
       "      <td>33.88202</td>\n",
       "      <td>113.6140</td>\n",
       "      <td>637</td>\n",
       "      <td>94000000</td>\n",
       "      <td>1265</td>\n",
       "      <td>50.36</td>\n",
       "    </tr>\n",
       "    <tr>\n",
       "      <th>3</th>\n",
       "      <td>Hunan</td>\n",
       "      <td>27.61041</td>\n",
       "      <td>111.7088</td>\n",
       "      <td>634</td>\n",
       "      <td>67370000</td>\n",
       "      <td>1010</td>\n",
       "      <td>62.77</td>\n",
       "    </tr>\n",
       "    <tr>\n",
       "      <th>4</th>\n",
       "      <td>Zhejiang</td>\n",
       "      <td>29.18251</td>\n",
       "      <td>120.0985</td>\n",
       "      <td>633</td>\n",
       "      <td>57370000</td>\n",
       "      <td>1175</td>\n",
       "      <td>53.87</td>\n",
       "    </tr>\n",
       "  </tbody>\n",
       "</table>\n",
       "</div>"
      ],
      "text/plain": [
       "  Province/State       Lat      Long  Total Number of Recoveries  Population  \\\n",
       "0          Hubei  30.97564  112.2707                       11788    58500000   \n",
       "1      Guangdong  23.33841  113.4220                         642   113460000   \n",
       "2          Henan  33.88202  113.6140                         637    94000000   \n",
       "3          Hunan  27.61041  111.7088                         634    67370000   \n",
       "4       Zhejiang  29.18251  120.0985                         633    57370000   \n",
       "\n",
       "   Total Confirmed Cases  Percentage Recovery(%)  \n",
       "0                  62442                   18.88  \n",
       "1                   1332                   48.20  \n",
       "2                   1265                   50.36  \n",
       "3                   1010                   62.77  \n",
       "4                   1175                   53.87  "
      ]
     },
     "execution_count": 48,
     "metadata": {},
     "output_type": "execute_result"
    }
   ],
   "source": [
    "china_analysis"
   ]
  },
  {
   "cell_type": "code",
   "execution_count": null,
   "metadata": {},
   "outputs": [],
   "source": []
  }
 ],
 "metadata": {
  "kernelspec": {
   "display_name": "Python 3",
   "language": "python",
   "name": "python3"
  },
  "language_info": {
   "codemirror_mode": {
    "name": "ipython",
    "version": 3
   },
   "file_extension": ".py",
   "mimetype": "text/x-python",
   "name": "python",
   "nbconvert_exporter": "python",
   "pygments_lexer": "ipython3",
   "version": "3.6.10"
  }
 },
 "nbformat": 4,
 "nbformat_minor": 2
}
